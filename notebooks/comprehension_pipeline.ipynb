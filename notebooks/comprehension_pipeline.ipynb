{
 "cells": [
  {
   "cell_type": "code",
   "execution_count": 1,
   "id": "01402d20",
   "metadata": {},
   "outputs": [],
   "source": [
    "import os\n",
    "import chromadb\n",
    "import numpy as np\n",
    "from typing import List\n",
    "from dotenv import load_dotenv\n",
    "\n",
    "load_dotenv()\n",
    "openai_api_key = os.getenv('OPENAI_API_KEY', '')\n",
    "\n",
    "from langchain import OpenAI\n",
    "from langchain.llms import OpenAI\n",
    "from langchain.output_parsers import PydanticOutputParser\n",
    "from langchain.prompts import PromptTemplate\n",
    "from langchain.pydantic_v1 import BaseModel, Field, validator\n",
    "from langchain.prompts import ChatPromptTemplate\n",
    "from langchain.schema import Document\n",
    "from langchain.document_loaders import PyPDFLoader\n",
    "from langchain.text_splitter import RecursiveCharacterTextSplitter\n",
    "from langchain.chat_models import ChatOpenAI\n",
    "from langchain.vectorstores import FAISS\n",
    "from langchain.embeddings import OpenAIEmbeddings\n",
    "from langchain.chains.summarize import load_summarize_chain"
   ]
  },
  {
   "cell_type": "markdown",
   "id": "52213cd3",
   "metadata": {},
   "source": [
    "## Loading a long PDF document (e.g. book)"
   ]
  },
  {
   "cell_type": "code",
   "execution_count": 2,
   "id": "2c459c5e",
   "metadata": {},
   "outputs": [],
   "source": [
    "# Load the document\n",
    "document_location = \"~/Documents/DTU/5th_semester/deep-learn/neural_networks_and_deep_learning.pdf\"\n",
    "loader = PyPDFLoader(document_location)\n",
    "pages = loader.load()\n",
    "\n",
    "# Cut out the open and closing parts\n",
    "pages = pages[5:]\n",
    "\n",
    "# Combine the pages, and replace the tabs with spaces\n",
    "text = \"\"\n",
    "\n",
    "for page in pages:\n",
    "    text += page.page_content\n",
    "    \n",
    "text = text.replace('\\t', ' ')"
   ]
  },
  {
   "cell_type": "markdown",
   "id": "7b389cdc",
   "metadata": {},
   "source": [
    "We split the text in order to have manageable chunks that are small enough to be used as context for the LLM."
   ]
  },
  {
   "cell_type": "code",
   "execution_count": 3,
   "id": "5d6da810",
   "metadata": {},
   "outputs": [],
   "source": [
    "text_splitter = RecursiveCharacterTextSplitter(separators=[\"\\n\\n\", \"\\n\", \"\\t\"],\n",
    "                                               chunk_size=8000,\n",
    "                                               chunk_overlap=1500)\n",
    "\n",
    "docs = text_splitter.create_documents([text])"
   ]
  },
  {
   "cell_type": "markdown",
   "id": "9d0c50e8",
   "metadata": {},
   "source": [
    "After splitting the documents, we embed them in vector space to enable similarity search and fast fetching of documents."
   ]
  },
  {
   "cell_type": "code",
   "execution_count": 4,
   "id": "fd95e289",
   "metadata": {},
   "outputs": [],
   "source": [
    "embeddings = OpenAIEmbeddings(openai_api_key=openai_api_key)\n",
    "\n",
    "vectors = embeddings.embed_documents([x.page_content for x in docs])"
   ]
  },
  {
   "cell_type": "markdown",
   "id": "dfdc67ca",
   "metadata": {},
   "source": [
    "### Creating a Chat Model"
   ]
  },
  {
   "cell_type": "code",
   "execution_count": 5,
   "id": "9a1d0f48",
   "metadata": {},
   "outputs": [],
   "source": [
    "# initialize chat model\n",
    "llm = ChatOpenAI(temperature=0,\n",
    "                 openai_api_key=openai_api_key,\n",
    "                 max_tokens=3000,\n",
    "                 model='gpt-3.5-turbo-1106',\n",
    "                 request_timeout=120\n",
    "                 )"
   ]
  },
  {
   "cell_type": "markdown",
   "id": "cf18649e",
   "metadata": {},
   "source": [
    "### Generate questions about some text"
   ]
  },
  {
   "cell_type": "code",
   "execution_count": 6,
   "id": "8d3c09f5",
   "metadata": {},
   "outputs": [],
   "source": [
    "# Define the chain function\n",
    "def generate_comprehension_questions(text):\n",
    "    # Define the prompt\n",
    "    prompt = f\"Please provide 3 short comprehension questions about the following technical text: {text}\"\n",
    "    \n",
    "    # Use the model to generate questions\n",
    "    response = llm.invoke(prompt)\n",
    "\n",
    "    # Extract and format the questions\n",
    "    questions = response.content.split(\"\\n\")[:3]\n",
    "    \n",
    "    return questions"
   ]
  },
  {
   "cell_type": "code",
   "execution_count": 7,
   "id": "5e4cf9d6",
   "metadata": {
    "scrolled": true
   },
   "outputs": [],
   "source": [
    "# Example usage\n",
    "text = docs[17].page_content\n",
    "questions = generate_comprehension_questions(text)"
   ]
  },
  {
   "cell_type": "code",
   "execution_count": 8,
   "id": "1474b88d",
   "metadata": {},
   "outputs": [],
   "source": [
    "text = \"\"\"\n",
    "Nineteen Eighty-Four (also published as 1984) is a dystopian novel and cautionary tale by English writer George Orwell. It was published on 8 June 1949 by Secker & Warburg as Orwell's ninth and final book completed in his lifetime. Thematically, it centres on the consequences of totalitarianism, mass surveillance and repressive regimentation of people and behaviours within society.[2][3] Orwell, a democratic socialist, modelled the authoritarian state in the novel on the Soviet Union in the era of Stalinism, and Nazi Germany.[4] More broadly, the novel examines the role of truth and facts within societies and the ways in which they can be manipulated.\n",
    "\n",
    "The story takes place in an imagined future in an unspecified year believed to be 1984, when much of the world is in perpetual war. Great Britain, now known as Airstrip One, has become a province of the totalitarian superstate Oceania, which is led by Big Brother, a dictatorial leader supported by an intense cult of personality manufactured by the Party's Thought Police. The Party engages in omnipresent government surveillance and, through the Ministry of Truth, historical negationism and constant propaganda to persecute individuality and independent thinking.[5]\n",
    "\n",
    "The protagonist, Winston Smith, is a diligent mid-level worker at the Ministry of Truth who secretly hates the Party and dreams of rebellion. Smith keeps a forbidden diary. He begins a relationship with a colleague, Julia, and they learn about a shadowy resistance group called the Brotherhood. However, their contact within the Brotherhood turns out to be a Party agent, and Smith and Julia are arrested. He is subjected to months of psychological manipulation and torture by the Ministry of Love and is released once he has come to love Big Brother.\n",
    "\n",
    "Nineteen Eighty-Four has become a classic literary example of political and dystopian fiction. It also popularised the term \"Orwellian\" as an adjective, with many terms used in the novel entering common usage, including \"Big Brother\", \"doublethink\", \"Thought Police\", \"thoughtcrime\", \"Newspeak\", and \"2 + 2 = 5\". Parallels have been drawn between the novel's subject matter and real life instances of totalitarianism, mass surveillance, and violations of freedom of expression among other themes.[6][7][8] Orwell described his book as a \"satire\",[9] and a display of the \"perversions to which a centralised economy is liable,\" while also stating he believed \"that something resembling it could arrive.\"[9] Time included the novel on its list of the 100 best English-language novels published from 1923 to 2005,[10] and it was placed on the Modern Library's 100 Best Novels list, reaching number 13 on the editors' list and number 6 on the readers' list.[11] In 2003, it was listed at number eight on The Big Read survey by the BBC.\n",
    "\"\"\"\n",
    "questions = generate_comprehension_questions(text)"
   ]
  },
  {
   "cell_type": "code",
   "execution_count": 9,
   "id": "c4d0f01f",
   "metadata": {},
   "outputs": [
    {
     "name": "stdout",
     "output_type": "stream",
     "text": [
      "1. Who is the protagonist of Nineteen Eighty-Four and what is his job at the Ministry of Truth?\n",
      "2. What are some of the terms popularized by the novel that have entered common usage?\n",
      "3. What are some of the themes and real-life instances that have been compared to the subject matter of Nineteen Eighty-Four?\n"
     ]
    }
   ],
   "source": [
    "for q in questions:\n",
    "    print(q)"
   ]
  },
  {
   "cell_type": "markdown",
   "id": "1edbd876",
   "metadata": {},
   "source": [
    "## Use the generated questions to generate answers"
   ]
  },
  {
   "cell_type": "code",
   "execution_count": 11,
   "id": "92e02b7a",
   "metadata": {},
   "outputs": [],
   "source": [
    "chroma_client = chromadb.Client()\n",
    "\n",
    "#chroma_client.delete_collection(\"my_collection\")\n",
    "collection = chroma_client.get_or_create_collection(name=\"my_collection\")\n",
    "\n",
    "identifiers = [str(element) for element in list(range(len(vectors)))]\n",
    "str_docs = [doc.page_content for doc in docs]\n",
    "\n",
    "collection.add(\n",
    "    embeddings=vectors,\n",
    "    documents=str_docs,\n",
    "    #metadatas=[{\"source\": \"my_source\"}, {\"source\": \"my_source\"}],\n",
    "    ids=identifiers\n",
    ")"
   ]
  },
  {
   "cell_type": "code",
   "execution_count": 12,
   "id": "1fad14a5",
   "metadata": {},
   "outputs": [],
   "source": [
    "def generate_answers(questions, context=None):\n",
    "    \n",
    "    answers = []\n",
    "    \n",
    "    for question in questions:\n",
    "        if context is None:\n",
    "            # get context from vector store\n",
    "            qe = embeddings.embed_documents([question])\n",
    "            results = collection.query(query_embeddings=qe,\n",
    "                                       n_results=2)\n",
    "\n",
    "            # concatenate strings\n",
    "            context = \"\"\n",
    "            for idx in results['ids'][0]:\n",
    "                context += str_docs[int(idx)]\n",
    "        \n",
    "        answers_prompt = ChatPromptTemplate.from_template(\"{context}\\n{question} Please provide a short and concise answer.\")\n",
    "        answers_chain = answers_prompt | llm\n",
    "        \n",
    "        answer = answers_chain.invoke({'context':context, 'question':question}).content\n",
    "        \n",
    "        answers.append(answer)\n",
    "        \n",
    "    return answers"
   ]
  },
  {
   "cell_type": "code",
   "execution_count": 13,
   "id": "2199367a",
   "metadata": {},
   "outputs": [],
   "source": [
    "answers = generate_answers(questions, text)"
   ]
  },
  {
   "cell_type": "code",
   "execution_count": 14,
   "id": "5774c97d",
   "metadata": {
    "scrolled": true
   },
   "outputs": [
    {
     "name": "stdout",
     "output_type": "stream",
     "text": [
      "1. Who is the protagonist of Nineteen Eighty-Four and what is his job at the Ministry of Truth?\n",
      "The protagonist of Nineteen Eighty-Four is Winston Smith, and he is a mid-level worker at the Ministry of Truth.\n",
      "\n",
      "2. What are some of the terms popularized by the novel that have entered common usage?\n",
      "Some terms popularized by the novel include \"Big Brother\", \"doublethink\", \"Thought Police\", \"thoughtcrime\", \"Newspeak\", and \"2 + 2 = 5\".\n",
      "\n",
      "3. What are some of the themes and real-life instances that have been compared to the subject matter of Nineteen Eighty-Four?\n",
      "Some of the themes and real-life instances that have been compared to the subject matter of Nineteen Eighty-Four include totalitarianism, mass surveillance, violations of freedom of expression, and the manipulation of truth and facts within societies.\n",
      "\n"
     ]
    }
   ],
   "source": [
    "for q, a in zip(questions, answers):\n",
    "    print(q)\n",
    "    print(a)\n",
    "    print()"
   ]
  },
  {
   "cell_type": "markdown",
   "id": "efd5b79c",
   "metadata": {},
   "source": [
    "### Grade user answers"
   ]
  },
  {
   "cell_type": "code",
   "execution_count": 21,
   "id": "c1f0dc31",
   "metadata": {},
   "outputs": [],
   "source": [
    "def grade_user_answer(questions, answers):\n",
    "    for q,a in zip(questions, answers):\n",
    "        print(q)\n",
    "        user_answer = input()\n",
    "        prompt = ChatPromptTemplate.from_template(\"A user has been tasked to answer a question. The correct answer is: {system_answer}\\n The user answered the following: {user_answer} Please rate the correctness of the user answer.\")\n",
    "        grade_chain = prompt | llm\n",
    "        grade = grade_chain.invoke({'system_answer':a, 'user_answer':user_answer})\n",
    "        print(grade.content)\n",
    "        print()"
   ]
  },
  {
   "cell_type": "code",
   "execution_count": 20,
   "id": "6214e981",
   "metadata": {},
   "outputs": [
    {
     "name": "stdout",
     "output_type": "stream",
     "text": [
      "1. Who is the protagonist of Nineteen Eighty-Four and what is his job at the Ministry of Truth?\n",
      "Winston Smith\n",
      "The user's answer is correct. The protagonist of Nineteen Eighty-Four is indeed Winston Smith. However, the user did not provide the additional information that he is a mid-level worker at the Ministry of Truth. Therefore, the correctness of the user's answer is partially correct.\n",
      "2. What are some of the terms popularized by the novel that have entered common usage?\n",
      "\"Newspeak\", \"Big Brother\" and \"pepperoni bros\"\n",
      "The user's answer is partially correct. They correctly identified \"Newspeak\" and \"Big Brother\" as terms popularized by the novel, but \"pepperoni bros\" is not a term associated with the novel. Therefore, the user's answer is partially correct.\n",
      "3. What are some of the themes and real-life instances that have been compared to the subject matter of Nineteen Eighty-Four?\n",
      "Something about the state doing a lot of monitoring. Also, the first amendment of US law is not upheld. Lying and spying and fake news.\n"
     ]
    },
    {
     "name": "stderr",
     "output_type": "stream",
     "text": [
      "Retrying langchain.chat_models.openai.ChatOpenAI.completion_with_retry.<locals>._completion_with_retry in 4.0 seconds as it raised Timeout: Request timed out: HTTPSConnectionPool(host='api.openai.com', port=443): Read timed out. (read timeout=120.0).\n"
     ]
    },
    {
     "name": "stdout",
     "output_type": "stream",
     "text": [
      "The user's answer is mostly correct, as they mentioned the state doing a lot of monitoring, violations of freedom of expression, and the manipulation of truth and facts within societies. However, they did not specifically mention totalitarianism, which is a key theme in Nineteen Eighty-Four. Additionally, they mentioned the first amendment of US law, which is not directly related to the themes of the book. Overall, the user's answer is partially correct but could be more specific and focused on the themes and real-life instances compared to the subject matter of Nineteen Eighty-Four.\n"
     ]
    }
   ],
   "source": [
    "grade_user_answer(questions, answers)"
   ]
  },
  {
   "cell_type": "code",
   "execution_count": null,
   "id": "89ad019f",
   "metadata": {},
   "outputs": [],
   "source": []
  }
 ],
 "metadata": {
  "kernelspec": {
   "display_name": "Python 3 (ipykernel)",
   "language": "python",
   "name": "python3"
  },
  "language_info": {
   "codemirror_mode": {
    "name": "ipython",
    "version": 3
   },
   "file_extension": ".py",
   "mimetype": "text/x-python",
   "name": "python",
   "nbconvert_exporter": "python",
   "pygments_lexer": "ipython3",
   "version": "3.9.12"
  }
 },
 "nbformat": 4,
 "nbformat_minor": 5
}
